{
 "cells": [
  {
   "cell_type": "code",
   "execution_count": null,
   "id": "65754f43-e247-4833-992f-7aba84761416",
   "metadata": {},
   "outputs": [
    {
     "name": "stderr",
     "output_type": "stream",
     "text": [
      "2025-01-01 22:45:47,769\tINFO worker.py:1819 -- Started a local Ray instance.\n"
     ]
    },
    {
     "name": "stdout",
     "output_type": "stream",
     "text": [
      "\u001b[36m(train_fn pid=14552)\u001b[0m Epoch 1/5, Loss: 109.2871\n",
      "\u001b[36m(train_fn pid=14552)\u001b[0m Epoch 2/5, Loss: 109.1031\n",
      "\u001b[36m(train_fn pid=14552)\u001b[0m Epoch 3/5, Loss: 108.8427\n",
      "\u001b[36m(train_fn pid=14552)\u001b[0m Epoch 4/5, Loss: 108.9449\n",
      "Dataset size: 10000, Training time: 7.00 seconds\n",
      "Results for dataset size 10000: {'final_loss': 108.96069884300232}\n",
      "\u001b[36m(train_fn pid=14552)\u001b[0m Epoch 5/5, Loss: 108.9607\n",
      "\u001b[36m(train_fn pid=14552)\u001b[0m Epoch 1/5, Loss: 543.0476\n",
      "\u001b[36m(train_fn pid=14552)\u001b[0m Epoch 2/5, Loss: 542.3775\n",
      "\u001b[36m(train_fn pid=14552)\u001b[0m Epoch 3/5, Loss: 542.4362\n",
      "\u001b[36m(train_fn pid=14552)\u001b[0m Epoch 4/5, Loss: 542.2909\n",
      "Dataset size: 50000, Training time: 7.93 seconds\n",
      "Results for dataset size 50000: {'final_loss': 542.3334870934486}\n",
      "\u001b[36m(train_fn pid=14552)\u001b[0m Epoch 5/5, Loss: 542.3335\n",
      "\u001b[36m(train_fn pid=14552)\u001b[0m Epoch 1/5, Loss: 1084.6758\n",
      "\u001b[36m(train_fn pid=14552)\u001b[0m Epoch 2/5, Loss: 1084.0439\n",
      "\u001b[36m(train_fn pid=14552)\u001b[0m Epoch 3/5, Loss: 1083.7928\n",
      "\u001b[36m(train_fn pid=14552)\u001b[0m Epoch 4/5, Loss: 1083.9339\n",
      "Dataset size: 100000, Training time: 14.09 seconds\n",
      "Results for dataset size 100000: {'final_loss': 1083.915911257267}\n",
      "\u001b[36m(train_fn pid=14552)\u001b[0m Epoch 5/5, Loss: 1083.9159\n",
      "\u001b[36m(train_fn pid=14552)\u001b[0m Epoch 1/5, Loss: 10837.1378\n",
      "\u001b[36m(train_fn pid=14552)\u001b[0m Epoch 2/5, Loss: 10835.5748\n",
      "\u001b[36m(train_fn pid=14552)\u001b[0m Epoch 3/5, Loss: 10835.5329\n",
      "\u001b[36m(train_fn pid=14552)\u001b[0m Epoch 4/5, Loss: 10835.5702\n"
     ]
    }
   ],
   "source": [
    "import time\n",
    "import ray\n",
    "from ray.train.torch import TorchTrainer\n",
    "from ray.air import ScalingConfig\n",
    "\n",
    "# Initialize Ray\n",
    "ray.init(ignore_reinit_error=True)\n",
    "\n",
    "# Define the training function and use the @ray.remote decorator to parallelize it\n",
    "@ray.remote\n",
    "def train_fn(config):\n",
    "    import torch\n",
    "    import torch.nn as nn\n",
    "    import torch.optim as optim\n",
    "    from torch.utils.data import DataLoader, TensorDataset\n",
    "\n",
    "    # Simulate data size\n",
    "    data_size = config[\"data_size\"]  # Data size passed from the main loop\n",
    "    batch_size = config.get(\"batch_size\", 64)  # Default batch size\n",
    "\n",
    "    # Generate synthetic data (X: features, y: labels)\n",
    "    X = torch.randn(data_size, 10)  # 10 features\n",
    "    y = torch.randint(0, 2, (data_size,))  # Binary classification (0 or 1)\n",
    "\n",
    "    # Create a simple dataset and data loader\n",
    "    dataset = TensorDataset(X, y)\n",
    "    dataloader = DataLoader(dataset, batch_size=batch_size, shuffle=True)\n",
    "\n",
    "    # Define a simple model\n",
    "    model = nn.Sequential(\n",
    "        nn.Linear(10, 16),\n",
    "        nn.ReLU(),\n",
    "        nn.Linear(16, 2)  # Output layer for 2 classes\n",
    "    )\n",
    "    criterion = nn.CrossEntropyLoss()\n",
    "    optimizer = optim.Adam(model.parameters(), lr=0.01)\n",
    "\n",
    "    # Training loop\n",
    "    epochs = 5\n",
    "    for epoch in range(epochs):\n",
    "        total_loss = 0.0\n",
    "        for batch_X, batch_y in dataloader:\n",
    "            optimizer.zero_grad()\n",
    "            outputs = model(batch_X)\n",
    "            loss = criterion(outputs, batch_y)\n",
    "            loss.backward()\n",
    "            optimizer.step()\n",
    "            total_loss += loss.item()\n",
    "\n",
    "        print(f\"Epoch {epoch+1}/{epochs}, Loss: {total_loss:.4f}\")\n",
    "\n",
    "    return {\"final_loss\": total_loss}\n",
    "\n",
    "# Dataset sizes for testing scalability\n",
    "datasets = [10_000, 50_000, 100_000, 1_000_000]  # Simulated dataset sizes\n",
    "\n",
    "# Loop through datasets and train\n",
    "for size in datasets:\n",
    "    start_time = time.time()  # Start timer\n",
    "\n",
    "    # Run the remote task and get the result\n",
    "    future = train_fn.remote({\"data_size\": size})  # Call the remote function\n",
    "    \n",
    "    # Get the result from the remote function\n",
    "    result = ray.get(future)  # Wait for the result of the remote task\n",
    "    \n",
    "    end_time = time.time()  # End timer\n",
    "    \n",
    "    training_time = end_time - start_time  # Calculate elapsed time\n",
    "    print(f\"Dataset size: {size}, Training time: {training_time:.2f} seconds\")\n",
    "    print(f\"Results for dataset size {size}: {result}\")\n",
    "\n",
    "# Shut down Ray\n",
    "ray.shutdown()\n"
   ]
  },
  {
   "cell_type": "code",
   "execution_count": 6,
   "id": "9c740cb1-fcfa-4582-8b5e-8d7778bfb09f",
   "metadata": {},
   "outputs": [
    {
     "name": "stdout",
     "output_type": "stream",
     "text": [
      "git version 2.44.0.windows.1\n"
     ]
    }
   ],
   "source": [
    "!git --version\n"
   ]
  },
  {
   "cell_type": "code",
   "execution_count": 7,
   "id": "60b9d62a-ab23-458b-b29d-c80706570e23",
   "metadata": {},
   "outputs": [
    {
     "name": "stdout",
     "output_type": "stream",
     "text": [
      "Initialized empty Git repository in C:/Users/white/Desktop/PDC JUypter/.git/\n"
     ]
    }
   ],
   "source": [
    "!git init\n"
   ]
  },
  {
   "cell_type": "code",
   "execution_count": 8,
   "id": "27917e69-36c0-4152-a5a2-90e8b7621155",
   "metadata": {},
   "outputs": [],
   "source": [
    "!git remote add origin https://github.com/whitemr7/Ray.git\n"
   ]
  },
  {
   "cell_type": "code",
   "execution_count": 9,
   "id": "7f544c5e-0469-4b6a-a12f-97da1e20a3b1",
   "metadata": {},
   "outputs": [
    {
     "name": "stderr",
     "output_type": "stream",
     "text": [
      "warning: in the working copy of '.ipynb_checkpoints/Untitled2-checkpoint.ipynb', LF will be replaced by CRLF the next time Git touches it\n",
      "warning: in the working copy of 'Untitled2.ipynb', LF will be replaced by CRLF the next time Git touches it\n"
     ]
    }
   ],
   "source": [
    "!git add ."
   ]
  },
  {
   "cell_type": "code",
   "execution_count": 10,
   "id": "534e9195-688e-46f5-98c2-2787a6316a83",
   "metadata": {},
   "outputs": [],
   "source": [
    "!git add .\n"
   ]
  },
  {
   "cell_type": "code",
   "execution_count": 11,
   "id": "9ce1c52a-7117-4e85-bc7c-56855a0093fd",
   "metadata": {},
   "outputs": [
    {
     "name": "stdout",
     "output_type": "stream",
     "text": [
      "[master (root-commit) 9eca47b] commit scalability code\n",
      " 2 files changed, 199 insertions(+)\n",
      " create mode 100644 .ipynb_checkpoints/Untitled2-checkpoint.ipynb\n",
      " create mode 100644 Untitled2.ipynb\n"
     ]
    }
   ],
   "source": [
    "!git commit -m \"commit scalability code\"\n"
   ]
  },
  {
   "cell_type": "code",
   "execution_count": 12,
   "id": "c0efe600-23e3-4cca-8f2e-6ba6f241a670",
   "metadata": {},
   "outputs": [
    {
     "name": "stdout",
     "output_type": "stream",
     "text": [
      "branch 'master' set up to track 'origin/master'.\n"
     ]
    },
    {
     "name": "stderr",
     "output_type": "stream",
     "text": [
      "To https://github.com/whitemr7/Ray.git\n",
      " * [new branch]      master -> master\n"
     ]
    }
   ],
   "source": [
    "!git push -u origin master\n"
   ]
  },
  {
   "cell_type": "code",
   "execution_count": 13,
   "id": "2aff78ff-16f1-409f-a732-b5c1eb9c1ef6",
   "metadata": {},
   "outputs": [
    {
     "name": "stdout",
     "output_type": "stream",
     "text": [
      "On branch master\n",
      "Your branch is up to date with 'origin/master'.\n",
      "\n",
      "Changes not staged for commit:\n",
      "  (use \"git add <file>...\" to update what will be committed)\n",
      "  (use \"git restore <file>...\" to discard changes in working directory)\n",
      "\tmodified:   Untitled2.ipynb\n",
      "\n",
      "no changes added to commit (use \"git add\" and/or \"git commit -a\")\n"
     ]
    }
   ],
   "source": [
    "!git status\n"
   ]
  },
  {
   "cell_type": "code",
   "execution_count": 14,
   "id": "a902769f-29d3-4cf9-b181-ab2010cfb369",
   "metadata": {},
   "outputs": [],
   "source": [
    "!git branch -M main"
   ]
  },
  {
   "cell_type": "code",
   "execution_count": 15,
   "id": "7a79aef2-9f50-4b94-abc4-c9e290e66429",
   "metadata": {},
   "outputs": [
    {
     "name": "stdout",
     "output_type": "stream",
     "text": [
      "branch 'main' set up to track 'origin/main'.\n"
     ]
    },
    {
     "name": "stderr",
     "output_type": "stream",
     "text": [
      "remote: \n",
      "remote: Create a pull request for 'main' on GitHub by visiting:        \n",
      "remote:      https://github.com/whitemr7/Ray/pull/new/main        \n",
      "remote: \n",
      "To https://github.com/whitemr7/Ray.git\n",
      " * [new branch]      main -> main\n"
     ]
    }
   ],
   "source": [
    "!git push -u origin main"
   ]
  },
  {
   "cell_type": "code",
   "execution_count": 16,
   "id": "685035b9-3c5d-4cc1-bb25-8ef0def6cafc",
   "metadata": {},
   "outputs": [
    {
     "name": "stdout",
     "output_type": "stream",
     "text": [
      "On branch main\n",
      "Your branch is up to date with 'origin/main'.\n",
      "\n",
      "Changes not staged for commit:\n",
      "  (use \"git add <file>...\" to update what will be committed)\n",
      "  (use \"git restore <file>...\" to discard changes in working directory)\n",
      "\tmodified:   Untitled2.ipynb\n",
      "\n",
      "no changes added to commit (use \"git add\" and/or \"git commit -a\")\n"
     ]
    }
   ],
   "source": [
    "!git status"
   ]
  },
  {
   "cell_type": "code",
   "execution_count": 17,
   "id": "47cecc2d-3bd6-4941-b29d-e544ed5a5e9d",
   "metadata": {},
   "outputs": [
    {
     "name": "stderr",
     "output_type": "stream",
     "text": [
      "warning: in the working copy of 'Untitled2.ipynb', LF will be replaced by CRLF the next time Git touches it\n"
     ]
    }
   ],
   "source": [
    "!git add Untitled2.ipynb\n"
   ]
  },
  {
   "cell_type": "code",
   "execution_count": 18,
   "id": "f93e1dd1-700d-4622-8f5d-215f7b055740",
   "metadata": {},
   "outputs": [],
   "source": [
    "!git config --global core.autocrlf true\n"
   ]
  },
  {
   "cell_type": "code",
   "execution_count": null,
   "id": "268251c1-4549-49a7-9407-e43931f24740",
   "metadata": {},
   "outputs": [],
   "source": []
  }
 ],
 "metadata": {
  "kernelspec": {
   "display_name": "Python 3 (ipykernel)",
   "language": "python",
   "name": "python3"
  },
  "language_info": {
   "codemirror_mode": {
    "name": "ipython",
    "version": 3
   },
   "file_extension": ".py",
   "mimetype": "text/x-python",
   "name": "python",
   "nbconvert_exporter": "python",
   "pygments_lexer": "ipython3",
   "version": "3.12.3"
  }
 },
 "nbformat": 4,
 "nbformat_minor": 5
}
