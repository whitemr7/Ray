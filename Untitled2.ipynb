{
 "cells": [
  {
   "cell_type": "code",
   "execution_count": null,
   "id": "65754f43-e247-4833-992f-7aba84761416",
   "metadata": {},
   "outputs": [
    {
     "name": "stderr",
     "output_type": "stream",
     "text": [
      "2025-01-01 22:45:47,769\tINFO worker.py:1819 -- Started a local Ray instance.\n"
     ]
    },
    {
     "name": "stdout",
     "output_type": "stream",
     "text": [
      "\u001b[36m(train_fn pid=14552)\u001b[0m Epoch 1/5, Loss: 109.2871\n",
      "\u001b[36m(train_fn pid=14552)\u001b[0m Epoch 2/5, Loss: 109.1031\n",
      "\u001b[36m(train_fn pid=14552)\u001b[0m Epoch 3/5, Loss: 108.8427\n",
      "\u001b[36m(train_fn pid=14552)\u001b[0m Epoch 4/5, Loss: 108.9449\n",
      "Dataset size: 10000, Training time: 7.00 seconds\n",
      "Results for dataset size 10000: {'final_loss': 108.96069884300232}\n",
      "\u001b[36m(train_fn pid=14552)\u001b[0m Epoch 5/5, Loss: 108.9607\n",
      "\u001b[36m(train_fn pid=14552)\u001b[0m Epoch 1/5, Loss: 543.0476\n",
      "\u001b[36m(train_fn pid=14552)\u001b[0m Epoch 2/5, Loss: 542.3775\n",
      "\u001b[36m(train_fn pid=14552)\u001b[0m Epoch 3/5, Loss: 542.4362\n",
      "\u001b[36m(train_fn pid=14552)\u001b[0m Epoch 4/5, Loss: 542.2909\n",
      "Dataset size: 50000, Training time: 7.93 seconds\n",
      "Results for dataset size 50000: {'final_loss': 542.3334870934486}\n",
      "\u001b[36m(train_fn pid=14552)\u001b[0m Epoch 5/5, Loss: 542.3335\n",
      "\u001b[36m(train_fn pid=14552)\u001b[0m Epoch 1/5, Loss: 1084.6758\n",
      "\u001b[36m(train_fn pid=14552)\u001b[0m Epoch 2/5, Loss: 1084.0439\n",
      "\u001b[36m(train_fn pid=14552)\u001b[0m Epoch 3/5, Loss: 1083.7928\n",
      "\u001b[36m(train_fn pid=14552)\u001b[0m Epoch 4/5, Loss: 1083.9339\n",
      "Dataset size: 100000, Training time: 14.09 seconds\n",
      "Results for dataset size 100000: {'final_loss': 1083.915911257267}\n",
      "\u001b[36m(train_fn pid=14552)\u001b[0m Epoch 5/5, Loss: 1083.9159\n",
      "\u001b[36m(train_fn pid=14552)\u001b[0m Epoch 1/5, Loss: 10837.1378\n",
      "\u001b[36m(train_fn pid=14552)\u001b[0m Epoch 2/5, Loss: 10835.5748\n",
      "\u001b[36m(train_fn pid=14552)\u001b[0m Epoch 3/5, Loss: 10835.5329\n",
      "\u001b[36m(train_fn pid=14552)\u001b[0m Epoch 4/5, Loss: 10835.5702\n"
     ]
    }
   ],
   "source": [
    "import time\n",
    "import ray\n",
    "from ray.train.torch import TorchTrainer\n",
    "from ray.air import ScalingConfig\n",
    "\n",
    "# Initialize Ray\n",
    "ray.init(ignore_reinit_error=True)\n",
    "\n",
    "# Define the training function and use the @ray.remote decorator to parallelize it\n",
    "@ray.remote\n",
    "def train_fn(config):\n",
    "    import torch\n",
    "    import torch.nn as nn\n",
    "    import torch.optim as optim\n",
    "    from torch.utils.data import DataLoader, TensorDataset\n",
    "\n",
    "    # Simulate data size\n",
    "    data_size = config[\"data_size\"]  # Data size passed from the main loop\n",
    "    batch_size = config.get(\"batch_size\", 64)  # Default batch size\n",
    "\n",
    "    # Generate synthetic data (X: features, y: labels)\n",
    "    X = torch.randn(data_size, 10)  # 10 features\n",
    "    y = torch.randint(0, 2, (data_size,))  # Binary classification (0 or 1)\n",
    "\n",
    "    # Create a simple dataset and data loader\n",
    "    dataset = TensorDataset(X, y)\n",
    "    dataloader = DataLoader(dataset, batch_size=batch_size, shuffle=True)\n",
    "\n",
    "    # Define a simple model\n",
    "    model = nn.Sequential(\n",
    "        nn.Linear(10, 16),\n",
    "        nn.ReLU(),\n",
    "        nn.Linear(16, 2)  # Output layer for 2 classes\n",
    "    )\n",
    "    criterion = nn.CrossEntropyLoss()\n",
    "    optimizer = optim.Adam(model.parameters(), lr=0.01)\n",
    "\n",
    "    # Training loop\n",
    "    epochs = 5\n",
    "    for epoch in range(epochs):\n",
    "        total_loss = 0.0\n",
    "        for batch_X, batch_y in dataloader:\n",
    "            optimizer.zero_grad()\n",
    "            outputs = model(batch_X)\n",
    "            loss = criterion(outputs, batch_y)\n",
    "            loss.backward()\n",
    "            optimizer.step()\n",
    "            total_loss += loss.item()\n",
    "\n",
    "        print(f\"Epoch {epoch+1}/{epochs}, Loss: {total_loss:.4f}\")\n",
    "\n",
    "    return {\"final_loss\": total_loss}\n",
    "\n",
    "# Dataset sizes for testing scalability\n",
    "datasets = [10_000, 50_000, 100_000, 1_000_000]  # Simulated dataset sizes\n",
    "\n",
    "# Loop through datasets and train\n",
    "for size in datasets:\n",
    "    start_time = time.time()  # Start timer\n",
    "\n",
    "    # Run the remote task and get the result\n",
    "    future = train_fn.remote({\"data_size\": size})  # Call the remote function\n",
    "    \n",
    "    # Get the result from the remote function\n",
    "    result = ray.get(future)  # Wait for the result of the remote task\n",
    "    \n",
    "    end_time = time.time()  # End timer\n",
    "    \n",
    "    training_time = end_time - start_time  # Calculate elapsed time\n",
    "    print(f\"Dataset size: {size}, Training time: {training_time:.2f} seconds\")\n",
    "    print(f\"Results for dataset size {size}: {result}\")\n",
    "\n",
    "# Shut down Ray\n",
    "ray.shutdown()\n"
   ]
  },
  {
   "cell_type": "code",
   "execution_count": 6,
   "id": "9c740cb1-fcfa-4582-8b5e-8d7778bfb09f",
   "metadata": {},
   "outputs": [
    {
     "name": "stdout",
     "output_type": "stream",
     "text": [
      "git version 2.44.0.windows.1\n"
     ]
    }
   ],
   "source": [
    "!git --version\n"
   ]
  },
  {
   "cell_type": "code",
   "execution_count": 7,
   "id": "60b9d62a-ab23-458b-b29d-c80706570e23",
   "metadata": {},
   "outputs": [
    {
     "name": "stdout",
     "output_type": "stream",
     "text": [
      "Initialized empty Git repository in C:/Users/white/Desktop/PDC JUypter/.git/\n"
     ]
    }
   ],
   "source": [
    "!git init\n"
   ]
  },
  {
   "cell_type": "code",
   "execution_count": null,
   "id": "27917e69-36c0-4152-a5a2-90e8b7621155",
   "metadata": {},
   "outputs": [],
   "source": [
    "!git remote add origin https://github.com/your-username/your-repository.git\n"
   ]
  }
 ],
 "metadata": {
  "kernelspec": {
   "display_name": "Python 3 (ipykernel)",
   "language": "python",
   "name": "python3"
  },
  "language_info": {
   "codemirror_mode": {
    "name": "ipython",
    "version": 3
   },
   "file_extension": ".py",
   "mimetype": "text/x-python",
   "name": "python",
   "nbconvert_exporter": "python",
   "pygments_lexer": "ipython3",
   "version": "3.12.3"
  }
 },
 "nbformat": 4,
 "nbformat_minor": 5
}
